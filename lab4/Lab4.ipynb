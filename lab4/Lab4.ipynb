{
 "cells": [
  {
   "cell_type": "markdown",
   "metadata": {},
   "source": [
    "# import 使用到的套件"
   ]
  },
  {
   "cell_type": "code",
   "execution_count": 1,
   "metadata": {},
   "outputs": [
    {
     "name": "stderr",
     "output_type": "stream",
     "text": [
      "Using TensorFlow backend.\n"
     ]
    }
   ],
   "source": [
    "import numpy as np\n",
    "from keras.layers import concatenate,Input, Dense, GaussianNoise,Lambda,Dropout,Activation,Conv1D,Reshape\n",
    "from keras.models import Model\n",
    "from keras import regularizers\n",
    "from keras.layers.normalization import BatchNormalization\n",
    "\n",
    "from keras.optimizers import Adam,SGD\n",
    "from keras import backend as K\n",
    "from keras.callbacks import EarlyStopping, ModelCheckpoint\n",
    "\n",
    "from numpy.random import seed\n",
    "from tensorflow import set_random_seed\n",
    "from keras.utils import to_categorical\n",
    "\n",
    "import matplotlib.pyplot as plt"
   ]
  },
  {
   "cell_type": "markdown",
   "metadata": {},
   "source": [
    "# 宣告模擬的參數"
   ]
  },
  {
   "cell_type": "code",
   "execution_count": 2,
   "metadata": {},
   "outputs": [],
   "source": [
    "M = 16\n",
    "N = 7\n",
    "ISI_TAPS=3\n",
    "EQUALIZE_TAPS = 3\n",
    "TRAINING_Esdb = 6\n",
    "\n",
    "N_TRAIN=1000000\n",
    "N_VAL=1000000\n",
    "N_TEST=10000000\n",
    "\n",
    "EPOCHS=30\n",
    "BATCH=10000\n",
    "PATIENCE=1000\n",
    "SAVE= False\n",
    "SAVE_PATH ='./lab4best.h5'\n",
    "\n",
    "Esdb_TEST = np.arange(0,10,1)"
   ]
  },
  {
   "cell_type": "markdown",
   "metadata": {},
   "source": [
    "# 宣告一般Function\n",
    "## 1.cal_awgn_std(): 計算awgn_std\n",
    "## 2.data_generator():取得資料\n",
    "## 3.plot_result(): 畫出結果"
   ]
  },
  {
   "cell_type": "code",
   "execution_count": 3,
   "metadata": {},
   "outputs": [],
   "source": [
    "def cal_awgn_std(EsN0db):\n",
    "    N0  = 1 / np.power(10,EsN0db/10)\n",
    "    awgn_std = np.sqrt(N0)\n",
    "    return awgn_std\n",
    "\n",
    "def data_generator(N_TRAIN=100000,N_VAL=1000000,N_TEST=10000000,M=16):\n",
    "    \n",
    "    x_train   = np.arange(N_TRAIN)%M\n",
    "    x_val     = np.random.randint(M,size=N_VAL)\n",
    "    x_test    = np.random.randint(M,size=N_TEST)\n",
    "    \n",
    "    x_train   = to_categorical(x_train,M)\n",
    "    x_val     = to_categorical(x_val,M)\n",
    "    x_test    = to_categorical(x_test,M)\n",
    "    np.random.shuffle(x_train)\n",
    "    return x_train,x_val,x_test\n",
    "\n",
    "\n",
    "def plot_result(Esdb,l_BLER=0,l_BER=0):\n",
    "    if(l_BLER):\n",
    "        plt.plot(Esdb , l_BLER , 'bo-', linewidth=1, alpha=0.6,label='Block error rate')\n",
    "        plt.title('Block Error Rate vs Es/N0 ')\n",
    "        plt.yscale('log')\n",
    "        plt.xlabel('Es/N0')\n",
    "        plt.ylabel('Block error rate')\n",
    "        plt.grid()\n",
    "        plt.legend(loc='lower left',ncol = 1)\n",
    "        plt.show()\n",
    "    if(l_BER):\n",
    "        plt.plot(Esdb , l_BER , 'bo-', linewidth=1, alpha=0.6,label='Bit error rate')\n",
    "        plt.title('Bit Error Rate vs Es/N0 ')\n",
    "        plt.yscale('log')\n",
    "        plt.xlabel('Es/N0')\n",
    "        plt.ylabel('Bit error rate')\n",
    "        plt.grid()\n",
    "        plt.legend(loc='lower left',ncol = 1)\n",
    "        plt.show()"
   ]
  },
  {
   "cell_type": "markdown",
   "metadata": {},
   "source": [
    "# 宣告Model及用在Model上的function\n",
    "## 1.AWGN(): AWGN layer\n",
    "## 2.code_normalization(): normalize Es to 1\n",
    "## 3.get_model(): 取得AE model\n",
    "## 4.train_model(): 訓練AE model"
   ]
  },
  {
   "cell_type": "code",
   "execution_count": 4,
   "metadata": {},
   "outputs": [],
   "source": [
    "awgn_std = cal_awgn_std(TRAINING_Esdb)\n",
    "\n",
    "def AWGN(x):\n",
    "    noise = K.random_normal(shape=K.shape(x),mean=0.0,stddev=awgn_std)\n",
    "    return x + noise\n",
    "\n",
    "def code_normalization(x):\n",
    "    return np.sqrt(K.int_shape(x)[1])*K.l2_normalize(x,axis=1)\n",
    "\n",
    "def get_model(m=16,n=7,verbose=1):\n",
    "    input_signal = Input(shape=(m,))\n",
    "    encoded1     = Dense(m,activation='relu',name='encoded1')(input_signal)\n",
    "    encoded2     = Dense(n,activation='linear',name='encoded2')(encoded1)\n",
    "    encoder_out  = Lambda(code_normalization,name='encoder_out')(encoded2)\n",
    "\n",
    "    AWGN_code1   = Lambda(AWGN,name='AWGN1') (encoder_out)\n",
    "\n",
    "    decoded1     = Dense(m,activation='relu',name='decoded1') (AWGN_code1)\n",
    "    decoded2     = Dense(m,activation='softmax',name='decoded2') (decoded1)\n",
    "\n",
    "    autoencoder  = Model(input_signal, decoded2)\n",
    "    encoder      = Model(input_signal, encoder_out) \n",
    "    \n",
    "    decoder_input= Input(shape=(n,))\n",
    "    deco         = autoencoder.layers[-2](decoder_input)\n",
    "    deco         = autoencoder.layers[-1](deco)\n",
    "    decoder      = Model(decoder_input, deco)\n",
    "\n",
    "    autoencoder.compile(optimizer='adam', loss='categorical_crossentropy',metrics = ['accuracy'])\n",
    "    \n",
    "    if(verbose):\n",
    "        autoencoder.summary()\n",
    "\n",
    "\n",
    "    return autoencoder,encoder,decoder\n",
    "\n",
    "\n",
    "\n",
    "def train_model(model,source,target,source_val,target_val,epochs=100, batch=1000,patience=1000,save=0,save_path ='./lab4best.h5'):\n",
    "    if(SAVE):\n",
    "        early_stopping = EarlyStopping(monitor='val_loss', patience=PATIENCE)\n",
    "        checkpointer = ModelCheckpoint(SAVE_PATH, monitor='val_loss', verbose=1, save_best_only=True, save_weights_only=True, mode='min', period=1)\n",
    "        hist = model.fit(source,target,validation_data =(source_val,target_val),epochs=epochs,batch_size=batch,callbacks=[checkpointer,early_stopping],shuffle=True)\n",
    "        return model,hist\n",
    "    \n",
    "    else:\n",
    "        early_stopping = EarlyStopping(monitor='val_loss', patience=PATIENCE)\n",
    "        hist = model.fit(source,target,validation_data =(source_val,target_val),epochs=epochs,batch_size=batch,callbacks=[early_stopping],shuffle=True)\n",
    "        return model,hist"
   ]
  },
  {
   "cell_type": "markdown",
   "metadata": {},
   "source": [
    "# Main Function"
   ]
  },
  {
   "cell_type": "code",
   "execution_count": 5,
   "metadata": {},
   "outputs": [
    {
     "name": "stdout",
     "output_type": "stream",
     "text": [
      "_________________________________________________________________\n",
      "Layer (type)                 Output Shape              Param #   \n",
      "=================================================================\n",
      "input_1 (InputLayer)         (None, 16)                0         \n",
      "_________________________________________________________________\n",
      "encoded1 (Dense)             (None, 16)                272       \n",
      "_________________________________________________________________\n",
      "encoded2 (Dense)             (None, 7)                 119       \n",
      "_________________________________________________________________\n",
      "encoder_out (Lambda)         (None, 7)                 0         \n",
      "_________________________________________________________________\n",
      "AWGN1 (Lambda)               (None, 7)                 0         \n",
      "_________________________________________________________________\n",
      "decoded1 (Dense)             (None, 16)                128       \n",
      "_________________________________________________________________\n",
      "decoded2 (Dense)             (None, 16)                272       \n",
      "=================================================================\n",
      "Total params: 791\n",
      "Trainable params: 791\n",
      "Non-trainable params: 0\n",
      "_________________________________________________________________\n",
      "Train on 1000000 samples, validate on 1000000 samples\n",
      "Epoch 1/30\n",
      "1000000/1000000 [==============================] - 3s - loss: 2.1453 - acc: 0.3690 - val_loss: 1.5120 - val_acc: 0.6446\n",
      "Epoch 2/30\n",
      "1000000/1000000 [==============================] - 2s - loss: 1.1295 - acc: 0.8126 - val_loss: 0.7840 - val_acc: 0.9539\n",
      "Epoch 3/30\n",
      "1000000/1000000 [==============================] - 2s - loss: 0.5653 - acc: 0.9778 - val_loss: 0.3963 - val_acc: 0.9875\n",
      "Epoch 4/30\n",
      "1000000/1000000 [==============================] - 2s - loss: 0.3023 - acc: 0.9897 - val_loss: 0.2285 - val_acc: 0.9912\n",
      "Epoch 5/30\n",
      "1000000/1000000 [==============================] - 1s - loss: 0.1853 - acc: 0.9919 - val_loss: 0.1498 - val_acc: 0.9927\n",
      "Epoch 6/30\n",
      "1000000/1000000 [==============================] - 2s - loss: 0.1273 - acc: 0.9930 - val_loss: 0.1083 - val_acc: 0.9932\n",
      "Epoch 7/30\n",
      "1000000/1000000 [==============================] - 1s - loss: 0.0948 - acc: 0.9936 - val_loss: 0.0830 - val_acc: 0.9939\n",
      "Epoch 8/30\n",
      "1000000/1000000 [==============================] - 1s - loss: 0.0745 - acc: 0.9941 - val_loss: 0.0675 - val_acc: 0.9941\n",
      "Epoch 9/30\n",
      "1000000/1000000 [==============================] - 2s - loss: 0.0616 - acc: 0.9943 - val_loss: 0.0564 - val_acc: 0.9945\n",
      "Epoch 10/30\n",
      "1000000/1000000 [==============================] - 2s - loss: 0.0519 - acc: 0.9947 - val_loss: 0.0483 - val_acc: 0.9948\n",
      "Epoch 11/30\n",
      "1000000/1000000 [==============================] - 2s - loss: 0.0452 - acc: 0.9949 - val_loss: 0.0422 - val_acc: 0.9950\n",
      "Epoch 12/30\n",
      "1000000/1000000 [==============================] - 1s - loss: 0.0399 - acc: 0.9951 - val_loss: 0.0376 - val_acc: 0.9952\n",
      "Epoch 13/30\n",
      "1000000/1000000 [==============================] - 2s - loss: 0.0359 - acc: 0.9951 - val_loss: 0.0336 - val_acc: 0.9954\n",
      "Epoch 14/30\n",
      "1000000/1000000 [==============================] - 2s - loss: 0.0323 - acc: 0.9954 - val_loss: 0.0308 - val_acc: 0.9954\n",
      "Epoch 15/30\n",
      "1000000/1000000 [==============================] - 1s - loss: 0.0294 - acc: 0.9956 - val_loss: 0.0282 - val_acc: 0.9957\n",
      "Epoch 16/30\n",
      "1000000/1000000 [==============================] - 2s - loss: 0.0272 - acc: 0.9957 - val_loss: 0.0261 - val_acc: 0.9958\n",
      "Epoch 17/30\n",
      "1000000/1000000 [==============================] - 1s - loss: 0.0251 - acc: 0.9958 - val_loss: 0.0241 - val_acc: 0.9959\n",
      "Epoch 18/30\n",
      "1000000/1000000 [==============================] - 2s - loss: 0.0236 - acc: 0.9958 - val_loss: 0.0229 - val_acc: 0.9958\n",
      "Epoch 19/30\n",
      "1000000/1000000 [==============================] - 1s - loss: 0.0222 - acc: 0.9959 - val_loss: 0.0213 - val_acc: 0.9960\n",
      "Epoch 20/30\n",
      "1000000/1000000 [==============================] - 2s - loss: 0.0208 - acc: 0.9960 - val_loss: 0.0203 - val_acc: 0.9960\n",
      "Epoch 21/30\n",
      "1000000/1000000 [==============================] - 1s - loss: 0.0197 - acc: 0.9961 - val_loss: 0.0192 - val_acc: 0.9961\n",
      "Epoch 22/30\n",
      "1000000/1000000 [==============================] - 1s - loss: 0.0187 - acc: 0.9962 - val_loss: 0.0180 - val_acc: 0.9963\n",
      "Epoch 23/30\n",
      "1000000/1000000 [==============================] - 2s - loss: 0.0178 - acc: 0.9963 - val_loss: 0.0173 - val_acc: 0.9963\n",
      "Epoch 24/30\n",
      "1000000/1000000 [==============================] - 2s - loss: 0.0170 - acc: 0.9963 - val_loss: 0.0165 - val_acc: 0.9964\n",
      "Epoch 25/30\n",
      "1000000/1000000 [==============================] - 2s - loss: 0.0163 - acc: 0.9964 - val_loss: 0.0158 - val_acc: 0.9965\n",
      "Epoch 26/30\n",
      "1000000/1000000 [==============================] - 2s - loss: 0.0156 - acc: 0.9965 - val_loss: 0.0151 - val_acc: 0.9966\n",
      "Epoch 27/30\n",
      "1000000/1000000 [==============================] - 2s - loss: 0.0147 - acc: 0.9966 - val_loss: 0.0147 - val_acc: 0.9966\n",
      "Epoch 28/30\n",
      "1000000/1000000 [==============================] - 2s - loss: 0.0141 - acc: 0.9966 - val_loss: 0.0141 - val_acc: 0.9966\n",
      "Epoch 29/30\n",
      "1000000/1000000 [==============================] - 2s - loss: 0.0138 - acc: 0.9967 - val_loss: 0.0137 - val_acc: 0.9967\n",
      "Epoch 30/30\n",
      "1000000/1000000 [==============================] - 2s - loss: 0.0136 - acc: 0.9967 - val_loss: 0.0133 - val_acc: 0.9967\n",
      " 9890000/10000000 [============================>.] - ETA: 0sEs/N0:0   BLER:0.2455101   BER:0.135826825\n",
      " 9910000/10000000 [============================>.] - ETA: 0sEs/N0:1   BLER:0.1713939   BER:0.0950377\n",
      " 9980000/10000000 [============================>.] - ETA: 0sEs/N0:2   BLER:0.1079756   BER:0.05999525\n",
      " 9940000/10000000 [============================>.] - ETA: 0sEs/N0:3   BLER:0.0598479   BER:0.03334495\n",
      " 9970000/10000000 [============================>.] - ETA: 0sEs/N0:4   BLER:0.0283118   BER:0.01582625\n",
      "10000000/10000000 [==============================] - 4s     \n",
      "Es/N0:5   BLER:0.0109591   BER:0.0061398\n",
      " 9990000/10000000 [============================>.] - ETA: 0sEs/N0:6   BLER:0.0032533   BER:0.001821625\n",
      "10000000/10000000 [==============================] - 4s     \n",
      "Es/N0:7   BLER:0.0007389   BER:0.0004175\n",
      " 9890000/10000000 [============================>.] - ETA: 0sEs/N0:8   BLER:0.000115   BER:6.4925e-05\n",
      " 9930000/10000000 [============================>.] - ETA: 0sEs/N0:9   BLER:1.26e-05   BER:7.375e-06\n"
     ]
    }
   ],
   "source": [
    "x_train,x_val,x_test = data_generator(N_TRAIN,N_VAL,N_TEST,M)\n",
    "autoencoder,encoder,decoder = get_model(M,N,verbose=1)\n",
    "autoencoder,hist = train_model(autoencoder,x_train,x_train,x_val,x_val,EPOCHS,BATCH,PATIENCE,SAVE,SAVE_PATH)\n",
    "autoencoder_weights = autoencoder.get_weights()\n",
    "\n",
    "l_BLER = list()\n",
    "l_BER  = list()\n",
    "for SNR in Esdb_TEST :\n",
    "    def AWGN(x):\n",
    "        noise = K.random_normal(shape=K.shape(x),mean=0.0,stddev=cal_awgn_std(SNR))\n",
    "        return x + noise\n",
    "    autoencoder,encoder,decoder = get_model(M,N,verbose=0)\n",
    "    autoencoder.set_weights(autoencoder_weights)\n",
    "    preds = autoencoder.predict(x_test,batch_size=BATCH,verbose=1)\n",
    "    BLER = np.sum(np.argmax(preds,axis=1) != np.argmax(x_test,axis=1)) / N_TEST\n",
    "    BER  = np.sum(np.unpackbits(np.argmax(x_test,axis=1).astype(np.uint8)).reshape((-1,8)).astype(int)[:,4:] != np.unpackbits(np.argmax(preds,axis=1).astype(np.uint8)).reshape((-1,8)).astype(int)[:,4:]) / (N_TEST*int(np.log2(M)))\n",
    "    print('Es/N0:'+str(SNR)+'   BLER:'+str(BLER) +'   BER:'+str(BER))\n",
    "    l_BLER.append(BLER)\n",
    "    l_BER.append(BER)\n",
    "np.save('BLER',np.array(l_BLER))\n",
    "np.save('BER',np.array(l_BER))"
   ]
  },
  {
   "cell_type": "code",
   "execution_count": 8,
   "metadata": {},
   "outputs": [
    {
     "name": "stderr",
     "output_type": "stream",
     "text": [
      "c:\\users\\eason\\appdata\\local\\programs\\python\\python36\\lib\\site-packages\\matplotlib\\mathtext.py:854: MathTextWarning: Font 'default' does not have a glyph for '-' [U+2212]\n",
      "  MathTextWarning)\n",
      "c:\\users\\eason\\appdata\\local\\programs\\python\\python36\\lib\\site-packages\\matplotlib\\mathtext.py:855: MathTextWarning: Substituting with a dummy symbol.\n",
      "  warn(\"Substituting with a dummy symbol.\", MathTextWarning)\n"
     ]
    },
    {
     "data": {
      "image/png": "[encoded data removed]",
      "text/plain": [
       "<matplotlib.figure.Figure at 0x277e19617b8>"
      ]
     },
     "metadata": {},
     "output_type": "display_data"
    },
    {
     "data": {
      "image/png": "[encoded data removed]",
      "text/plain": [
       "<matplotlib.figure.Figure at 0x277e0422eb8>"
      ]
     },
     "metadata": {},
     "output_type": "display_data"
    }
   ],
   "source": [
    "plot_result(Esdb_TEST,l_BLER,l_BER)"
   ]
  }
 ],
 "metadata": {
  "kernelspec": {
   "display_name": "Python 3",
   "language": "python",
   "name": "python3"
  },
  "language_info": {
   "codemirror_mode": {
    "name": "ipython",
    "version": 3
   },
   "file_extension": ".py",
   "mimetype": "text/x-python",
   "name": "python",
   "nbconvert_exporter": "python",
   "pygments_lexer": "ipython3",
   "version": "3.6.2"
  }
 },
 "nbformat": 4,
 "nbformat_minor": 2
}
