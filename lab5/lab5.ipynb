{
 "cells": [
  {
   "cell_type": "markdown",
   "metadata": {},
   "source": [
    "\n",
    "# Import 使用到的套件\n"
   ]
  },
  {
   "cell_type": "code",
   "execution_count": 1,
   "metadata": {},
   "outputs": [
    {
     "name": "stderr",
     "output_type": "stream",
     "text": [
      "Using TensorFlow backend.\n"
     ]
    }
   ],
   "source": [
    "import numpy as np\n",
    "from keras.layers import concatenate,Input, Dense, GaussianNoise,Lambda,Dropout,Activation,Conv1D,Reshape,multiply,Merge\n",
    "from keras.models import Model, Sequential\n",
    "from keras import regularizers\n",
    "from keras.layers.normalization import BatchNormalization\n",
    "\n",
    "from keras.optimizers import Adam,SGD\n",
    "from keras import backend as K\n",
    "from keras.callbacks import EarlyStopping, ModelCheckpoint\n",
    "\n",
    "from numpy.random import seed\n",
    "from tensorflow import set_random_seed\n",
    "from keras.utils import to_categorical\n",
    "import tensorflow as tf\n",
    "import matplotlib.pyplot as plt"
   ]
  },
  {
   "cell_type": "markdown",
   "metadata": {},
   "source": [
    "# 宣告模擬的參數"
   ]
  },
  {
   "cell_type": "code",
   "execution_count": 2,
   "metadata": {},
   "outputs": [],
   "source": [
    "M = 16\n",
    "N = 7\n",
    "ISI_TAPS=3\n",
    "EQUALIZE_TAPS = 3\n",
    "TRAINING_Esdb = 10\n",
    "\n",
    "N_TRAIN=1000000\n",
    "N_VAL=1000000\n",
    "N_TEST=10000000\n",
    "\n",
    "EPOCHS=30\n",
    "BATCH=10000\n",
    "PATIENCE=1000\n",
    "SAVE= False\n",
    "SAVE_PATH ='./lab5best.h5'\n",
    "\n",
    "Esdb_TEST = np.arange(0,15,1)"
   ]
  },
  {
   "cell_type": "markdown",
   "metadata": {},
   "source": [
    "# 宣告一般function"
   ]
  },
  {
   "cell_type": "code",
   "execution_count": 3,
   "metadata": {},
   "outputs": [],
   "source": [
    "def cal_awgn_std(EsN0db):\n",
    "    N0  = 1 / np.power(10,EsN0db/10)\n",
    "    awgn_std = np.sqrt(N0)\n",
    "    return awgn_std\n",
    "\n",
    "def data_generator(N_TRAIN=100000,N_VAL=1000000,N_TEST=10000000,M=16):\n",
    "    \n",
    "    x_train   = np.arange(N_TRAIN)%M\n",
    "    x_val     = np.random.randint(M,size=N_VAL)\n",
    "    x_test    = np.random.randint(M,size=N_TEST)\n",
    "    \n",
    "    x_train   = to_categorical(x_train,M)\n",
    "    x_val     = to_categorical(x_val,M)\n",
    "    x_test    = to_categorical(x_test,M)\n",
    "    np.random.shuffle(x_train)\n",
    "    return x_train,x_val,x_test\n",
    "\n",
    "def plot_result(Esdb,l_BLER=0,l_BER=0):\n",
    "    if(l_BLER):\n",
    "        plt.plot(Esdb , l_BLER , 'bo-', linewidth=1, alpha=0.6,label='Block error rate')\n",
    "        plt.title('Block Error Rate vs Es/N0 ')\n",
    "        plt.yscale('log')\n",
    "        plt.xlabel('Es/N0')\n",
    "        plt.ylabel('Block error rate')\n",
    "        plt.grid()\n",
    "        plt.legend(loc='lower left',ncol = 1)\n",
    "        plt.show()\n",
    "    if(l_BER):\n",
    "        plt.plot(Esdb , l_BER , 'bo-', linewidth=1, alpha=0.6,label='Bit error rate')\n",
    "        plt.title('Bit Error Rate vs Es/N0 ')\n",
    "        plt.yscale('log')\n",
    "        plt.xlabel('Es/N0')\n",
    "        plt.ylabel('Bit error rate')\n",
    "        plt.grid()\n",
    "        plt.legend(loc='lower left',ncol = 1)\n",
    "        plt.show()"
   ]
  },
  {
   "cell_type": "markdown",
   "metadata": {},
   "source": [
    "# 宣告Model及用在Model上的function"
   ]
  },
  {
   "cell_type": "code",
   "execution_count": 4,
   "metadata": {},
   "outputs": [],
   "source": [
    "awgn_std = cal_awgn_std(TRAINING_Esdb)\n",
    "\n",
    "def ISI_Channel(x):\n",
    "    taps = K.l2_normalize(tf.random_normal((ISI_TAPS,1,1),mean=0.0,stddev=1.0,dtype=tf.float32),axis=0)\n",
    "#    taps = tf.constant(np.array([1,2,3]).reshape((3,1,1)), dtype=np.float32)\n",
    "    return K.conv1d(x, taps, strides=1, padding='causal',data_format='channels_last')\n",
    "\n",
    "def AWGN(x):\n",
    "    noise = K.random_normal(shape=K.shape(x),mean=0.0,stddev=awgn_std)\n",
    "    return x + noise\n",
    "\n",
    "def equalize(x):\n",
    "    taps = K.reshape(K.mean(x[1], axis=0),(EQUALIZE_TAPS,1,1))\n",
    "    return K.conv1d(x[0], taps, strides=1, padding='causal',data_format='channels_last')\n",
    "\n",
    "def code_normalization(x):\n",
    "    return np.sqrt(K.int_shape(x)[1])*K.l2_normalize(x,axis=1)\n",
    "\n",
    "def get_model(isi_taps=3,equalize_taps=3,m=16,n=7,verbose=1):\n",
    "    input_signal = Input(shape=(m,))\n",
    "    encoded1     = Dense(m,activation='relu',name='encoded1')(input_signal)\n",
    "    encoded2     = Dense(n,activation='linear',name='encoded2')(encoded1)\n",
    "    encoder_out  = Lambda(code_normalization,name='encoder_out')(encoded2)\n",
    "    encoder_out  = Reshape((n,1),name='reshape_encoder_out7_1')(encoder_out)\n",
    "\n",
    "    ISI_code     = Lambda(ISI_Channel,name='ISI_Channel')(encoder_out)\n",
    "    ISI_code     = Reshape((1,n),name='reshape_ISI_code1_7')(ISI_code)\n",
    "\n",
    "    AWGN_code1_7 = Lambda(AWGN,name='reshape_AWGN1_7') (ISI_code)\n",
    "    AWGN_code7_1 = Reshape((n,1),name='reshape_AWGN7_1')(AWGN_code1_7)\n",
    "\n",
    "    w_estimate1  = Dense(n,name='w_estimate1') (AWGN_code1_7)\n",
    "    w_estimate2  = Dense(n,name='w_estimate2') (w_estimate1)\n",
    "    w_estimate3  = Dense(equalize_taps,name='w_estimate3') (w_estimate2 )\n",
    "    w_estimate3  = Reshape((1,equalize_taps),name='reshape_w_estimate3')(w_estimate3)\n",
    "    equalize1    = Lambda(equalize, name='equalize1')([AWGN_code7_1,w_estimate3])\n",
    "    equalize1    = Reshape((n,), name='reshape_equalize1')(equalize1)\n",
    "    decoded1     = Dense(m,activation='relu',name='decoded1')(equalize1)\n",
    "    decoded2     = Dense(m,activation='softmax',name='decoded2')(decoded1)\n",
    "\n",
    "    autoencoder = Model(input_signal, decoded2)\n",
    "    autoencoder.compile(optimizer='adam', loss='categorical_crossentropy',metrics = ['accuracy'])\n",
    "    if(verbose):\n",
    "        autoencoder.summary()\n",
    "\n",
    "\n",
    "    return autoencoder\n",
    "\n",
    "\n",
    "def train_model(model,source,target,source_val,target_val,epochs=100, batch=1000,patience=1000,save=0,save_path ='./lab5best.h5'):\n",
    "    if(SAVE):\n",
    "        early_stopping = EarlyStopping(monitor='val_loss', patience=PATIENCE)\n",
    "        checkpointer   = ModelCheckpoint(SAVE_PATH, monitor='val_loss', verbose=1, save_best_only=True, save_weights_only=True, mode='min', period=1)\n",
    "        hist = model.fit(source,target,validation_data=(source_val,target_val),epochs=epochs,batch_size=batch,callbacks=[checkpointer,early_stopping],shuffle=True)\n",
    "        return model,hist\n",
    "    \n",
    "    else:\n",
    "        early_stopping = EarlyStopping(monitor='val_loss', patience=PATIENCE)\n",
    "        hist = model.fit(source,target,validation_data=(source_val,target_val),epochs=epochs,batch_size=batch,callbacks=[early_stopping],shuffle=True)\n",
    "        return model,hist\n",
    "\n"
   ]
  },
  {
   "cell_type": "markdown",
   "metadata": {},
   "source": [
    "# Main Function"
   ]
  },
  {
   "cell_type": "code",
   "execution_count": 5,
   "metadata": {},
   "outputs": [
    {
     "name": "stdout",
     "output_type": "stream",
     "text": [
      "____________________________________________________________________________________________________\n",
      "Layer (type)                     Output Shape          Param #     Connected to                     \n",
      "====================================================================================================\n",
      "input_1 (InputLayer)             (None, 16)            0                                            \n",
      "____________________________________________________________________________________________________\n",
      "encoded1 (Dense)                 (None, 16)            272         input_1[0][0]                    \n",
      "____________________________________________________________________________________________________\n",
      "encoded2 (Dense)                 (None, 7)             119         encoded1[0][0]                   \n",
      "____________________________________________________________________________________________________\n",
      "encoder_out (Lambda)             (None, 7)             0           encoded2[0][0]                   \n",
      "____________________________________________________________________________________________________\n",
      "reshape_encoder_out7_1 (Reshape) (None, 7, 1)          0           encoder_out[0][0]                \n",
      "____________________________________________________________________________________________________\n",
      "ISI_Channel (Lambda)             (None, 7, 1)          0           reshape_encoder_out7_1[0][0]     \n",
      "____________________________________________________________________________________________________\n",
      "reshape_ISI_code1_7 (Reshape)    (None, 1, 7)          0           ISI_Channel[0][0]                \n",
      "____________________________________________________________________________________________________\n",
      "reshape_AWGN1_7 (Lambda)         (None, 1, 7)          0           reshape_ISI_code1_7[0][0]        \n",
      "____________________________________________________________________________________________________\n",
      "w_estimate1 (Dense)              (None, 1, 7)          56          reshape_AWGN1_7[0][0]            \n",
      "____________________________________________________________________________________________________\n",
      "w_estimate2 (Dense)              (None, 1, 7)          56          w_estimate1[0][0]                \n",
      "____________________________________________________________________________________________________\n",
      "w_estimate3 (Dense)              (None, 1, 3)          24          w_estimate2[0][0]                \n",
      "____________________________________________________________________________________________________\n",
      "reshape_AWGN7_1 (Reshape)        (None, 7, 1)          0           reshape_AWGN1_7[0][0]            \n",
      "____________________________________________________________________________________________________\n",
      "reshape_w_estimate3 (Reshape)    (None, 1, 3)          0           w_estimate3[0][0]                \n",
      "____________________________________________________________________________________________________\n",
      "equalize1 (Lambda)               (None, 7, 1)          0           reshape_AWGN7_1[0][0]            \n",
      "                                                                   reshape_w_estimate3[0][0]        \n",
      "____________________________________________________________________________________________________\n",
      "reshape_equalize1 (Reshape)      (None, 7)             0           equalize1[0][0]                  \n",
      "____________________________________________________________________________________________________\n",
      "decoded1 (Dense)                 (None, 16)            128         reshape_equalize1[0][0]          \n",
      "____________________________________________________________________________________________________\n",
      "decoded2 (Dense)                 (None, 16)            272         decoded1[0][0]                   \n",
      "====================================================================================================\n",
      "Total params: 927\n",
      "Trainable params: 927\n",
      "Non-trainable params: 0\n",
      "____________________________________________________________________________________________________\n",
      "Train on 1000000 samples, validate on 1000000 samples\n",
      "Epoch 1/30\n",
      "1000000/1000000 [==============================] - 4s - loss: 2.5601 - acc: 0.1741 - val_loss: 2.2139 - val_acc: 0.2856\n",
      "Epoch 2/30\n",
      "1000000/1000000 [==============================] - 2s - loss: 1.7295 - acc: 0.4486 - val_loss: 1.3368 - val_acc: 0.5907\n",
      "Epoch 3/30\n",
      "1000000/1000000 [==============================] - 2s - loss: 1.1296 - acc: 0.6502 - val_loss: 0.9474 - val_acc: 0.7166\n",
      "Epoch 4/30\n",
      "1000000/1000000 [==============================] - 2s - loss: 0.7450 - acc: 0.7692 - val_loss: 0.5060 - val_acc: 0.8452\n",
      "Epoch 5/30\n",
      "1000000/1000000 [==============================] - 2s - loss: 0.4914 - acc: 0.8487 - val_loss: 0.5158 - val_acc: 0.8335\n",
      "Epoch 6/30\n",
      "1000000/1000000 [==============================] - 2s - loss: 0.3850 - acc: 0.8756 - val_loss: 0.3324 - val_acc: 0.8958\n",
      "Epoch 7/30\n",
      "1000000/1000000 [==============================] - 2s - loss: 0.3302 - acc: 0.8924 - val_loss: 0.4026 - val_acc: 0.8705\n",
      "Epoch 8/30\n",
      "1000000/1000000 [==============================] - 2s - loss: 0.3846 - acc: 0.8790 - val_loss: 0.2922 - val_acc: 0.9076\n",
      "Epoch 9/30\n",
      "1000000/1000000 [==============================] - 2s - loss: 0.2013 - acc: 0.9386 - val_loss: 0.1904 - val_acc: 0.9390\n",
      "Epoch 10/30\n",
      "1000000/1000000 [==============================] - 2s - loss: 0.1814 - acc: 0.9426 - val_loss: 0.2090 - val_acc: 0.9357\n",
      "Epoch 11/30\n",
      "1000000/1000000 [==============================] - 2s - loss: 0.1513 - acc: 0.9533 - val_loss: 0.1251 - val_acc: 0.9626\n",
      "Epoch 12/30\n",
      "1000000/1000000 [==============================] - 2s - loss: 0.1305 - acc: 0.9600 - val_loss: 0.1127 - val_acc: 0.9650\n",
      "Epoch 13/30\n",
      "1000000/1000000 [==============================] - 2s - loss: 0.0967 - acc: 0.9712 - val_loss: 0.0946 - val_acc: 0.9723\n",
      "Epoch 14/30\n",
      "1000000/1000000 [==============================] - 2s - loss: 0.1010 - acc: 0.9695 - val_loss: 0.0868 - val_acc: 0.9739\n",
      "Epoch 15/30\n",
      "1000000/1000000 [==============================] - 2s - loss: 0.0703 - acc: 0.9795 - val_loss: 0.0679 - val_acc: 0.9803\n",
      "Epoch 16/30\n",
      "1000000/1000000 [==============================] - 2s - loss: 0.0670 - acc: 0.9803 - val_loss: 0.0528 - val_acc: 0.9854\n",
      "Epoch 17/30\n",
      "1000000/1000000 [==============================] - 2s - loss: 0.0507 - acc: 0.9856 - val_loss: 0.0420 - val_acc: 0.9879\n",
      "Epoch 18/30\n",
      "1000000/1000000 [==============================] - 2s - loss: 0.0316 - acc: 0.9911 - val_loss: 0.0428 - val_acc: 0.9876\n",
      "Epoch 19/30\n",
      "1000000/1000000 [==============================] - 2s - loss: 0.0343 - acc: 0.9903 - val_loss: 0.0338 - val_acc: 0.9902\n",
      "Epoch 20/30\n",
      "1000000/1000000 [==============================] - 2s - loss: 0.0358 - acc: 0.9899 - val_loss: 0.0327 - val_acc: 0.9906\n",
      "Epoch 21/30\n",
      "1000000/1000000 [==============================] - 2s - loss: 0.0260 - acc: 0.9926 - val_loss: 0.0231 - val_acc: 0.9935\n",
      "Epoch 22/30\n",
      "1000000/1000000 [==============================] - 2s - loss: 0.0278 - acc: 0.9922 - val_loss: 0.0248 - val_acc: 0.9932\n",
      "Epoch 23/30\n",
      "1000000/1000000 [==============================] - 2s - loss: 0.0241 - acc: 0.9932 - val_loss: 0.0214 - val_acc: 0.9940\n",
      "Epoch 24/30\n",
      "1000000/1000000 [==============================] - 2s - loss: 0.0220 - acc: 0.9938 - val_loss: 0.0208 - val_acc: 0.9942\n",
      "Epoch 25/30\n",
      "1000000/1000000 [==============================] - 2s - loss: 0.0194 - acc: 0.9945 - val_loss: 0.0183 - val_acc: 0.9948\n",
      "Epoch 26/30\n",
      "1000000/1000000 [==============================] - 2s - loss: 0.0144 - acc: 0.9959 - val_loss: 0.0186 - val_acc: 0.9947\n",
      "Epoch 27/30\n",
      "1000000/1000000 [==============================] - 2s - loss: 0.0141 - acc: 0.9960 - val_loss: 0.0138 - val_acc: 0.9961\n",
      "Epoch 28/30\n",
      "1000000/1000000 [==============================] - 2s - loss: 0.0134 - acc: 0.9962 - val_loss: 0.0153 - val_acc: 0.9956\n",
      "Epoch 29/30\n",
      "1000000/1000000 [==============================] - 2s - loss: 0.0138 - acc: 0.9961 - val_loss: 0.0140 - val_acc: 0.9961\n",
      "Epoch 30/30\n",
      "1000000/1000000 [==============================] - 2s - loss: 0.0153 - acc: 0.9958 - val_loss: 0.0115 - val_acc: 0.9967\n",
      " 9910000/10000000 [============================>.] - ETA: 0sEs/N0:0BLER:0.4153247\n",
      " 9950000/10000000 [============================>.] - ETA: 0sEs/N0:1BLER:0.348446\n"
     ]
    },
    {
     "name": "stdout",
     "output_type": "stream",
     "text": [
      " 9900000/10000000 [============================>.] - ETA: 0sEs/N0:2BLER:0.279212\n",
      " 9960000/10000000 [============================>.] - ETA: 0sEs/N0:3BLER:0.2128007\n",
      " 9890000/10000000 [============================>.] - ETA: 0sEs/N0:4BLER:0.1533893\n",
      " 9970000/10000000 [============================>.] - ETA: 0sEs/N0:5BLER:0.1020782\n",
      " 9910000/10000000 [============================>.] - ETA: 0sEs/N0:6BLER:0.0648275\n",
      "10000000/10000000 [==============================] - 4s     \n",
      "Es/N0:7BLER:0.0368444\n",
      " 9970000/10000000 [============================>.] - ETA: 0sEs/N0:8BLER:0.0189286\n",
      " 9940000/10000000 [============================>.] - ETA: 0sEs/N0:9BLER:0.0084715\n",
      "10000000/10000000 [==============================] - 4s     \n",
      "Es/N0:10BLER:0.003426\n",
      " 9980000/10000000 [============================>.] - ETA: 0sEs/N0:11BLER:0.0012355\n",
      " 9920000/10000000 [============================>.] - ETA: 0sEs/N0:12BLER:0.0003678\n",
      " 9950000/10000000 [============================>.] - ETA: 0sEs/N0:13BLER:0.0001075\n",
      " 9880000/10000000 [============================>.] - ETA: 0sEs/N0:14BLER:2.24e-05\n"
     ]
    }
   ],
   "source": [
    "x_train,x_val,x_test = data_generator(N_TRAIN,N_VAL,N_TEST,M)\n",
    "autoencoder = get_model(ISI_TAPS,EQUALIZE_TAPS,M,N,verbose=1)\n",
    "autoencoder,hist = train_model(autoencoder,x_train,x_train,x_val,x_val,EPOCHS,BATCH,PATIENCE,SAVE,SAVE_PATH)\n",
    "autoencoder_weights = autoencoder.get_weights()\n",
    "\n",
    "l_BLER = list()\n",
    "for SNR in Esdb_TEST :\n",
    "    def AWGN(x):\n",
    "        noise = K.random_normal(shape=K.shape(x),mean=0.0,stddev=cal_awgn_std(SNR))\n",
    "        return x + noise\n",
    "    autoencoder = get_model(ISI_TAPS,EQUALIZE_TAPS,M,N,verbose=0)\n",
    "    autoencoder.set_weights(autoencoder_weights)\n",
    "    preds = autoencoder.predict(x_test,batch_size=BATCH,verbose=1)\n",
    "    BLER = np.sum(np.argmax(preds,axis=1) != np.argmax(x_test,axis=1)) / N_TEST\n",
    "    print('Es/N0:'+str(SNR)+'BLER:'+str(BLER))\n",
    "    l_BLER.append(BLER)\n",
    "    "
   ]
  },
  {
   "cell_type": "code",
   "execution_count": 6,
   "metadata": {},
   "outputs": [
    {
     "name": "stderr",
     "output_type": "stream",
     "text": [
      "c:\\users\\eason\\appdata\\local\\programs\\python\\python36\\lib\\site-packages\\matplotlib\\mathtext.py:854: MathTextWarning: Font 'default' does not have a glyph for '-' [U+2212]\n",
      "  MathTextWarning)\n",
      "c:\\users\\eason\\appdata\\local\\programs\\python\\python36\\lib\\site-packages\\matplotlib\\mathtext.py:855: MathTextWarning: Substituting with a dummy symbol.\n",
      "  warn(\"Substituting with a dummy symbol.\", MathTextWarning)\n"
     ]
    },
    {
     "data": {
      "image/png": "[encoded data removed]",
      "text/plain": [
       "<matplotlib.figure.Figure at 0x2545d5bcc50>"
      ]
     },
     "metadata": {},
     "output_type": "display_data"
    }
   ],
   "source": [
    " plot_result(Esdb_TEST,l_BLER)"
   ]
  },
  {
   "cell_type": "code",
   "execution_count": null,
   "metadata": {},
   "outputs": [],
   "source": []
  }
 ],
 "metadata": {
  "kernelspec": {
   "display_name": "Python 3",
   "language": "python",
   "name": "python3"
  },
  "language_info": {
   "codemirror_mode": {
    "name": "ipython",
    "version": 3
   },
   "file_extension": ".py",
   "mimetype": "text/x-python",
   "name": "python",
   "nbconvert_exporter": "python",
   "pygments_lexer": "ipython3",
   "version": "3.6.2"
  }
 },
 "nbformat": 4,
 "nbformat_minor": 2
}
