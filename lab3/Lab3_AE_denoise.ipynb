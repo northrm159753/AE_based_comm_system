{
 "cells": [
  {
   "cell_type": "markdown",
   "metadata": {},
   "source": [
    "# import 使用到的套件"
   ]
  },
  {
   "cell_type": "code",
   "execution_count": 1,
   "metadata": {},
   "outputs": [
    {
     "name": "stderr",
     "output_type": "stream",
     "text": [
      "Using TensorFlow backend.\n"
     ]
    }
   ],
   "source": [
    "import numpy as np\n",
    "from keras.datasets import mnist\n",
    "from keras.models import Model\n",
    "from keras.layers import Dense, Input, GaussianNoise,Lambda\n",
    "import matplotlib.pyplot as plt\n",
    "import keras.backend as K"
   ]
  },
  {
   "cell_type": "markdown",
   "metadata": {},
   "source": [
    "# 宣告一般 Function\n",
    "## 1.get_mnist() : 取得mnist資料庫圖片"
   ]
  },
  {
   "cell_type": "code",
   "execution_count": 2,
   "metadata": {},
   "outputs": [],
   "source": [
    "def get_mnist():\n",
    "    (x_train, y_train), (x_test, y_test) = mnist.load_data()\n",
    "\n",
    "# data pre-processing\n",
    "    x_train = x_train.astype('float32') / 255. - 0.5       # minmax_normalized\n",
    "    x_test = x_test.astype('float32') / 255. - 0.5         # minmax_normalized\n",
    "    x_train = x_train.reshape((x_train.shape[0], -1))\n",
    "    x_test = x_test.reshape((x_test.shape[0], -1))\n",
    "    \n",
    "    return  x_train,x_test,y_train, y_test"
   ]
  },
  {
   "cell_type": "markdown",
   "metadata": {},
   "source": [
    "# 宣告Model及用在Model上的function\n",
    "## 1. get_model(source,target): 取得AE model\n",
    "## 2. train_model(model,source,target,epochs=100, batch=1000):訓練AE model\n"
   ]
  },
  {
   "cell_type": "code",
   "execution_count": 3,
   "metadata": {},
   "outputs": [],
   "source": [
    "def get_model(source,target):\n",
    "    input_img = Input(shape=(784,))\n",
    "    noisy_input = GaussianNoise(0.2)(input_img)\n",
    "    encoded = Dense(784, activation='tanh')(noisy_input)\n",
    "    encoded = Dense(512, activation='tanh')(encoded)\n",
    "    encoded = Dense(512, activation='tanh')(encoded)\n",
    "    decoded = Dense(512, activation='tanh')(encoded)\n",
    "    decoded = Dense(512, activation='tanh')(decoded)\n",
    "    decoded = Dense(784, activation='linear')(decoded)\n",
    "    \n",
    "    autoencoder = Model(inputs=input_img, outputs=decoded)\n",
    "    autoencoder.compile(optimizer='adam', loss='mse')\n",
    "    \n",
    "    return autoencoder\n",
    "\n",
    "def train_model(model,source,target,epochs=100, batch=1000):\n",
    "        hist = model.fit(source,target,epochs=epochs,batch_size=batch,shuffle=True)\n",
    "        return model,hist\n",
    "    \n"
   ]
  },
  {
   "cell_type": "markdown",
   "metadata": {},
   "source": [
    "# Main Function"
   ]
  },
  {
   "cell_type": "code",
   "execution_count": 4,
   "metadata": {},
   "outputs": [
    {
     "name": "stdout",
     "output_type": "stream",
     "text": [
      "Epoch 1/20\n",
      " 2304/60000 [>.............................] - ETA: 765s - loss: 0.1586 "
     ]
    },
    {
     "name": "stderr",
     "output_type": "stream",
     "text": [
      "c:\\users\\eason\\appdata\\local\\programs\\python\\python36\\lib\\site-packages\\keras\\callbacks.py:120: UserWarning: Method on_batch_end() is slow compared to the batch update (0.149892). Check your callbacks.\n",
      "  % delta_t_median)\n"
     ]
    },
    {
     "name": "stdout",
     "output_type": "stream",
     "text": [
      "60000/60000 [==============================] - 33s - loss: 0.0350    \n",
      "Epoch 2/20\n",
      "60000/60000 [==============================] - 1s - loss: 0.0151     \n",
      "Epoch 3/20\n",
      "60000/60000 [==============================] - 1s - loss: 0.0125     \n",
      "Epoch 4/20\n",
      "60000/60000 [==============================] - 1s - loss: 0.0113     \n",
      "Epoch 5/20\n",
      "60000/60000 [==============================] - 1s - loss: 0.0105     \n",
      "Epoch 6/20\n",
      "60000/60000 [==============================] - 1s - loss: 0.0100     \n",
      "Epoch 7/20\n",
      "60000/60000 [==============================] - 2s - loss: 0.0096     \n",
      "Epoch 8/20\n",
      "60000/60000 [==============================] - 1s - loss: 0.0092     \n",
      "Epoch 9/20\n",
      "60000/60000 [==============================] - 1s - loss: 0.0089     \n",
      "Epoch 10/20\n",
      "60000/60000 [==============================] - 2s - loss: 0.0086     \n",
      "Epoch 11/20\n",
      "60000/60000 [==============================] - 2s - loss: 0.0083     \n",
      "Epoch 12/20\n",
      "60000/60000 [==============================] - 1s - loss: 0.0081     \n",
      "Epoch 13/20\n",
      "60000/60000 [==============================] - 2s - loss: 0.0078     \n",
      "Epoch 14/20\n",
      "60000/60000 [==============================] - 2s - loss: 0.0075     \n",
      "Epoch 15/20\n",
      "60000/60000 [==============================] - 1s - loss: 0.0073     \n",
      "Epoch 16/20\n",
      "60000/60000 [==============================] - 2s - loss: 0.0071     \n",
      "Epoch 17/20\n",
      "60000/60000 [==============================] - 1s - loss: 0.0069     \n",
      "Epoch 18/20\n",
      "60000/60000 [==============================] - 2s - loss: 0.0067     \n",
      "Epoch 19/20\n",
      "60000/60000 [==============================] - 1s - loss: 0.0065     \n",
      "Epoch 20/20\n",
      "60000/60000 [==============================] - 1s - loss: 0.0064     \n"
     ]
    }
   ],
   "source": [
    "EPOCHS = 20\n",
    "BATCH_SIZE = 256\n",
    "\n",
    "x_train,x_test,y_train, y_test = get_mnist()\n",
    "noise = np.random.normal(0,0.2,x_train.shape)\n",
    "noisy_img = x_train + noise \n",
    "\n",
    "autoencoder = get_model(x_train,x_train)\n",
    "autoencoder,hist = train_model(autoencoder,x_train,x_train,epochs=EPOCHS, batch=BATCH_SIZE)\n"
   ]
  },
  {
   "cell_type": "markdown",
   "metadata": {},
   "source": [
    "# 繪出原圖"
   ]
  },
  {
   "cell_type": "code",
   "execution_count": 12,
   "metadata": {},
   "outputs": [
    {
     "data": {
      "text/plain": [
       "<matplotlib.image.AxesImage at 0x2692e29a4a8>"
      ]
     },
     "execution_count": 12,
     "metadata": {},
     "output_type": "execute_result"
    },
    {
     "data": {
      "image/png": "[encoded data removed]",
      "text/plain": [
       "<matplotlib.figure.Figure at 0x2692e21a588>"
      ]
     },
     "metadata": {},
     "output_type": "display_data"
    }
   ],
   "source": [
    "plt.imshow(x_train[202].reshape(28,28),cmap='gray')"
   ]
  },
  {
   "cell_type": "markdown",
   "metadata": {},
   "source": [
    "# 繪出雜訊影響後的圖"
   ]
  },
  {
   "cell_type": "code",
   "execution_count": 6,
   "metadata": {},
   "outputs": [
    {
     "data": {
      "text/plain": [
       "<matplotlib.image.AxesImage at 0x26929af2160>"
      ]
     },
     "execution_count": 6,
     "metadata": {},
     "output_type": "execute_result"
    },
    {
     "data": {
      "image/png": "[encoded data removed]",
      "text/plain": [
       "<matplotlib.figure.Figure at 0x267eae3e2b0>"
      ]
     },
     "metadata": {},
     "output_type": "display_data"
    }
   ],
   "source": [
    "plt.imshow(noisy_img[0].reshape(28,28),cmap='gray')"
   ]
  },
  {
   "cell_type": "markdown",
   "metadata": {},
   "source": [
    "# 繪出經 AE denoise 後的圖"
   ]
  },
  {
   "cell_type": "code",
   "execution_count": 7,
   "metadata": {},
   "outputs": [
    {
     "data": {
      "text/plain": [
       "<matplotlib.image.AxesImage at 0x267bf83e470>"
      ]
     },
     "execution_count": 7,
     "metadata": {},
     "output_type": "execute_result"
    },
    {
     "data": {
      "image/png": "[encoded data removed]",
      "text/plain": [
       "<matplotlib.figure.Figure at 0x267bf894cc0>"
      ]
     },
     "metadata": {},
     "output_type": "display_data"
    }
   ],
   "source": [
    "denoise_img = autoencoder.predict(noisy_img)\n",
    "plt.imshow(denoise_img[0].reshape(28,28),cmap='gray')"
   ]
  }
 ],
 "metadata": {
  "kernelspec": {
   "display_name": "Python 3",
   "language": "python",
   "name": "python3"
  },
  "language_info": {
   "codemirror_mode": {
    "name": "ipython",
    "version": 3
   },
   "file_extension": ".py",
   "mimetype": "text/x-python",
   "name": "python",
   "nbconvert_exporter": "python",
   "pygments_lexer": "ipython3",
   "version": "3.6.2"
  }
 },
 "nbformat": 4,
 "nbformat_minor": 2
}
